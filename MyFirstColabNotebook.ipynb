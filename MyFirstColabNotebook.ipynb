{
  "nbformat": 4,
  "nbformat_minor": 0,
  "metadata": {
    "colab": {
      "name": "MyFirstColabNotebook",
      "provenance": [],
      "mount_file_id": "1sBznUas8DCbCfZc9QmigjcL6EemRlp8a",
      "authorship_tag": "ABX9TyOuM9uTFCaDFDs5UDRHqcif",
      "include_colab_link": true
    },
    "kernelspec": {
      "name": "python3",
      "display_name": "Python 3"
    }
  },
  "cells": [
    {
      "cell_type": "markdown",
      "metadata": {
        "id": "view-in-github",
        "colab_type": "text"
      },
      "source": [
        "<a href=\"https://colab.research.google.com/github/SamP923/Programming-Exercises/blob/master/MyFirstColabNotebook.ipynb\" target=\"_parent\"><img src=\"https://colab.research.google.com/assets/colab-badge.svg\" alt=\"Open In Colab\"/></a>"
      ]
    },
    {
      "cell_type": "code",
      "metadata": {
        "id": "A3A-FXfkU_et",
        "colab_type": "code",
        "colab": {
          "base_uri": "https://localhost:8080/",
          "height": 34
        },
        "outputId": "a718b675-a72d-4877-e630-d146c2a039b0"
      },
      "source": [
        "import time\n",
        "print(time.ctime())"
      ],
      "execution_count": null,
      "outputs": [
        {
          "output_type": "stream",
          "text": [
            "Sat Jun 20 06:27:24 2020\n"
          ],
          "name": "stdout"
        }
      ]
    },
    {
      "cell_type": "markdown",
      "metadata": {
        "id": "Z7U21lMtV3C4",
        "colab_type": "text"
      },
      "source": [
        "This is **bold**.\n",
        "This is *italic*.\n",
        "This is ~strikethrough~.\n",
        "\n",
        "\n",
        "We can also use LaTex!!\n",
        "\n",
        "$\\sqrt{3x-1}+(1+x)^2$\n",
        "\n",
        "$e^x = \\sum_{i = 0}^\\infty \\frac{1}{i!}x^i$"
      ]
    },
    {
      "cell_type": "code",
      "metadata": {
        "id": "IqHRbEiVVNax",
        "colab_type": "code",
        "colab": {
          "base_uri": "https://localhost:8080/",
          "height": 34
        },
        "outputId": "b84d39c9-cad6-4b85-a45e-c703adca64ae"
      },
      "source": [
        "time.sleep(5)\n",
        "print(time.ctime())"
      ],
      "execution_count": null,
      "outputs": [
        {
          "output_type": "stream",
          "text": [
            "Sat Jun 20 06:27:29 2020\n"
          ],
          "name": "stdout"
        }
      ]
    },
    {
      "cell_type": "code",
      "metadata": {
        "id": "LFKIKF7HWvR5",
        "colab_type": "code",
        "colab": {
          "base_uri": "https://localhost:8080/",
          "height": 34
        },
        "outputId": "133366c9-9756-466f-c014-e44a66642430"
      },
      "source": [
        "message = 'A Great Tutorial on Colab!'\n",
        "greeting = !echo -e '$message\\n$message'\n",
        "greeting"
      ],
      "execution_count": null,
      "outputs": [
        {
          "output_type": "execute_result",
          "data": {
            "text/plain": [
              "['A Great Tutorial on Colab!', 'A Great Tutorial on Colab!']"
            ]
          },
          "metadata": {
            "tags": []
          },
          "execution_count": 3
        }
      ]
    },
    {
      "cell_type": "code",
      "metadata": {
        "id": "LKT38u9ZXAOn",
        "colab_type": "code",
        "colab": {
          "base_uri": "https://localhost:8080/",
          "height": 222
        },
        "outputId": "ecc4dd6e-70f3-454f-cce7-df9966bdc506"
      },
      "source": [
        "!wget http://mlr.cs.umass.edu/ml/machine-learning-databases/adult/adult.data -P \"/content/drive/My Drive/app\""
      ],
      "execution_count": null,
      "outputs": [
        {
          "output_type": "stream",
          "text": [
            "--2020-06-20 06:27:31--  http://mlr.cs.umass.edu/ml/machine-learning-databases/adult/adult.data\n",
            "Resolving mlr.cs.umass.edu (mlr.cs.umass.edu)... 128.119.246.96\n",
            "Connecting to mlr.cs.umass.edu (mlr.cs.umass.edu)|128.119.246.96|:80... connected.\n",
            "HTTP request sent, awaiting response... 200 OK\n",
            "Length: 3974305 (3.8M) [text/plain]\n",
            "Saving to: ‘/content/drive/My Drive/app/adult.data.1’\n",
            "\n",
            "adult.data.1        100%[===================>]   3.79M  4.93MB/s    in 0.8s    \n",
            "\n",
            "2020-06-20 06:27:31 (4.93 MB/s) - ‘/content/drive/My Drive/app/adult.data.1’ saved [3974305/3974305]\n",
            "\n"
          ],
          "name": "stdout"
        }
      ]
    },
    {
      "cell_type": "code",
      "metadata": {
        "id": "3tKf0fwbXQUq",
        "colab_type": "code",
        "colab": {
          "base_uri": "https://localhost:8080/",
          "height": 383
        },
        "outputId": "f57a620b-06a7-434f-e585-d68d9650eea9"
      },
      "source": [
        "import pandas as pd\n",
        "data = pd.read_csv(\"/content/drive/My Drive/app/adult.data\")\n",
        "data.head(5)"
      ],
      "execution_count": null,
      "outputs": [
        {
          "output_type": "execute_result",
          "data": {
            "text/html": [
              "<div>\n",
              "<style scoped>\n",
              "    .dataframe tbody tr th:only-of-type {\n",
              "        vertical-align: middle;\n",
              "    }\n",
              "\n",
              "    .dataframe tbody tr th {\n",
              "        vertical-align: top;\n",
              "    }\n",
              "\n",
              "    .dataframe thead th {\n",
              "        text-align: right;\n",
              "    }\n",
              "</style>\n",
              "<table border=\"1\" class=\"dataframe\">\n",
              "  <thead>\n",
              "    <tr style=\"text-align: right;\">\n",
              "      <th></th>\n",
              "      <th>39</th>\n",
              "      <th>State-gov</th>\n",
              "      <th>77516</th>\n",
              "      <th>Bachelors</th>\n",
              "      <th>13</th>\n",
              "      <th>Never-married</th>\n",
              "      <th>Adm-clerical</th>\n",
              "      <th>Not-in-family</th>\n",
              "      <th>White</th>\n",
              "      <th>Male</th>\n",
              "      <th>2174</th>\n",
              "      <th>0</th>\n",
              "      <th>40</th>\n",
              "      <th>United-States</th>\n",
              "      <th>&lt;=50K</th>\n",
              "    </tr>\n",
              "  </thead>\n",
              "  <tbody>\n",
              "    <tr>\n",
              "      <th>0</th>\n",
              "      <td>50</td>\n",
              "      <td>Self-emp-not-inc</td>\n",
              "      <td>83311</td>\n",
              "      <td>Bachelors</td>\n",
              "      <td>13</td>\n",
              "      <td>Married-civ-spouse</td>\n",
              "      <td>Exec-managerial</td>\n",
              "      <td>Husband</td>\n",
              "      <td>White</td>\n",
              "      <td>Male</td>\n",
              "      <td>0</td>\n",
              "      <td>0</td>\n",
              "      <td>13</td>\n",
              "      <td>United-States</td>\n",
              "      <td>&lt;=50K</td>\n",
              "    </tr>\n",
              "    <tr>\n",
              "      <th>1</th>\n",
              "      <td>38</td>\n",
              "      <td>Private</td>\n",
              "      <td>215646</td>\n",
              "      <td>HS-grad</td>\n",
              "      <td>9</td>\n",
              "      <td>Divorced</td>\n",
              "      <td>Handlers-cleaners</td>\n",
              "      <td>Not-in-family</td>\n",
              "      <td>White</td>\n",
              "      <td>Male</td>\n",
              "      <td>0</td>\n",
              "      <td>0</td>\n",
              "      <td>40</td>\n",
              "      <td>United-States</td>\n",
              "      <td>&lt;=50K</td>\n",
              "    </tr>\n",
              "    <tr>\n",
              "      <th>2</th>\n",
              "      <td>53</td>\n",
              "      <td>Private</td>\n",
              "      <td>234721</td>\n",
              "      <td>11th</td>\n",
              "      <td>7</td>\n",
              "      <td>Married-civ-spouse</td>\n",
              "      <td>Handlers-cleaners</td>\n",
              "      <td>Husband</td>\n",
              "      <td>Black</td>\n",
              "      <td>Male</td>\n",
              "      <td>0</td>\n",
              "      <td>0</td>\n",
              "      <td>40</td>\n",
              "      <td>United-States</td>\n",
              "      <td>&lt;=50K</td>\n",
              "    </tr>\n",
              "    <tr>\n",
              "      <th>3</th>\n",
              "      <td>28</td>\n",
              "      <td>Private</td>\n",
              "      <td>338409</td>\n",
              "      <td>Bachelors</td>\n",
              "      <td>13</td>\n",
              "      <td>Married-civ-spouse</td>\n",
              "      <td>Prof-specialty</td>\n",
              "      <td>Wife</td>\n",
              "      <td>Black</td>\n",
              "      <td>Female</td>\n",
              "      <td>0</td>\n",
              "      <td>0</td>\n",
              "      <td>40</td>\n",
              "      <td>Cuba</td>\n",
              "      <td>&lt;=50K</td>\n",
              "    </tr>\n",
              "    <tr>\n",
              "      <th>4</th>\n",
              "      <td>37</td>\n",
              "      <td>Private</td>\n",
              "      <td>284582</td>\n",
              "      <td>Masters</td>\n",
              "      <td>14</td>\n",
              "      <td>Married-civ-spouse</td>\n",
              "      <td>Exec-managerial</td>\n",
              "      <td>Wife</td>\n",
              "      <td>White</td>\n",
              "      <td>Female</td>\n",
              "      <td>0</td>\n",
              "      <td>0</td>\n",
              "      <td>40</td>\n",
              "      <td>United-States</td>\n",
              "      <td>&lt;=50K</td>\n",
              "    </tr>\n",
              "  </tbody>\n",
              "</table>\n",
              "</div>"
            ],
            "text/plain": [
              "   39          State-gov   77516   Bachelors  ...   0  40   United-States   <=50K\n",
              "0  50   Self-emp-not-inc   83311   Bachelors  ...   0  13   United-States   <=50K\n",
              "1  38            Private  215646     HS-grad  ...   0  40   United-States   <=50K\n",
              "2  53            Private  234721        11th  ...   0  40   United-States   <=50K\n",
              "3  28            Private  338409   Bachelors  ...   0  40            Cuba   <=50K\n",
              "4  37            Private  284582     Masters  ...   0  40   United-States   <=50K\n",
              "\n",
              "[5 rows x 15 columns]"
            ]
          },
          "metadata": {
            "tags": []
          },
          "execution_count": 5
        }
      ]
    },
    {
      "cell_type": "code",
      "metadata": {
        "id": "98xT9s4WYI0r",
        "colab_type": "code",
        "colab": {
          "base_uri": "https://localhost:8080/",
          "height": 54
        },
        "outputId": "7048f944-f3b3-4120-a7d4-71773ebe036a"
      },
      "source": [
        "!git clone https://github.com/wxs/keras-mnist-tutorial.git"
      ],
      "execution_count": null,
      "outputs": [
        {
          "output_type": "stream",
          "text": [
            "fatal: destination path 'keras-mnist-tutorial' already exists and is not an empty directory.\n"
          ],
          "name": "stdout"
        }
      ]
    },
    {
      "cell_type": "code",
      "metadata": {
        "id": "cHJiprB_YIv2",
        "colab_type": "code",
        "colab": {
          "base_uri": "https://localhost:8080/",
          "height": 638
        },
        "outputId": "65374da5-e748-45e1-fe14-68ea06774984"
      },
      "source": [
        "# list of shortcuts for common operations\n",
        "!ls /bin"
      ],
      "execution_count": null,
      "outputs": [
        {
          "output_type": "stream",
          "text": [
            "bash\t       journalctl     sync\n",
            "bunzip2        kill\t      systemctl\n",
            "bzcat\t       kmod\t      systemd\n",
            "bzcmp\t       less\t      systemd-ask-password\n",
            "bzdiff\t       lessecho       systemd-escape\n",
            "bzegrep        lessfile       systemd-hwdb\n",
            "bzexe\t       lesskey\t      systemd-inhibit\n",
            "bzfgrep        lesspipe       systemd-machine-id-setup\n",
            "bzgrep\t       ln\t      systemd-notify\n",
            "bzip2\t       login\t      systemd-sysusers\n",
            "bzip2recover   loginctl       systemd-tmpfiles\n",
            "bzless\t       ls\t      systemd-tty-ask-password-agent\n",
            "bzmore\t       lsblk\t      tar\n",
            "cat\t       lsmod\t      tempfile\n",
            "chgrp\t       mkdir\t      touch\n",
            "chmod\t       mknod\t      true\n",
            "chown\t       mktemp\t      udevadm\n",
            "cp\t       more\t      ulockmgr_server\n",
            "dash\t       mount\t      umount\n",
            "date\t       mountpoint     uname\n",
            "dd\t       mv\t      uncompress\n",
            "df\t       networkctl     vdir\n",
            "dir\t       nisdomainname  wdctl\n",
            "dmesg\t       pidof\t      which\n",
            "dnsdomainname  ps\t      ypdomainname\n",
            "domainname     pwd\t      zcat\n",
            "echo\t       rbash\t      zcmp\n",
            "egrep\t       readlink       zdiff\n",
            "false\t       rm\t      zegrep\n",
            "fgrep\t       rmdir\t      zfgrep\n",
            "findmnt        run-parts      zforce\n",
            "fusermount     sed\t      zgrep\n",
            "grep\t       sh\t      zless\n",
            "gunzip\t       sh.distrib     zmore\n",
            "gzexe\t       sleep\t      znew\n",
            "gzip\t       stty\n",
            "hostname       su\n"
          ],
          "name": "stdout"
        }
      ]
    },
    {
      "cell_type": "code",
      "metadata": {
        "id": "3Vk1f_cmZj-j",
        "colab_type": "code",
        "colab": {
          "base_uri": "https://localhost:8080/",
          "height": 54
        },
        "outputId": "6b45dab7-81b7-48f9-cc70-d1f11ddf21b3"
      },
      "source": [
        "# Mounting drive (allowing Drive access to files)\n",
        "from google.colab import drive\n",
        "drive.mount('/content/drive/')"
      ],
      "execution_count": null,
      "outputs": [
        {
          "output_type": "stream",
          "text": [
            "Drive already mounted at /content/drive/; to attempt to forcibly remount, call drive.mount(\"/content/drive/\", force_remount=True).\n"
          ],
          "name": "stdout"
        }
      ]
    },
    {
      "cell_type": "code",
      "metadata": {
        "id": "RNeZ5uMtaCWJ",
        "colab_type": "code",
        "colab": {
          "base_uri": "https://localhost:8080/",
          "height": 34
        },
        "outputId": "60548af1-17fe-41e7-9486-b98fd0c1efdd"
      },
      "source": [
        "# Fix for \"cannot access\" = Runtime >> Factory Reset Runtime\n",
        "!ls \"/content/drive/My Drive/Colab Notebooks\""
      ],
      "execution_count": 2,
      "outputs": [
        {
          "output_type": "stream",
          "text": [
            "MyFirstColabNotebook\n"
          ],
          "name": "stdout"
        }
      ]
    },
    {
      "cell_type": "code",
      "metadata": {
        "id": "J2IzePmDc_C2",
        "colab_type": "code",
        "colab": {
          "base_uri": "https://localhost:8080/",
          "height": 34
        },
        "outputId": "c78d9439-1855-4824-d971-69d5492e3e4e"
      },
      "source": [
        "# to run a python file called hello.py in Google Drive\n",
        "!python3 \"/content/drive/My Drive/Colab Notebooks/hello.py\""
      ],
      "execution_count": 1,
      "outputs": [
        {
          "output_type": "stream",
          "text": [
            "Welcome!\n"
          ],
          "name": "stdout"
        }
      ]
    },
    {
      "cell_type": "code",
      "metadata": {
        "id": "VwDZGZ38d8rw",
        "colab_type": "code",
        "colab": {
          "base_uri": "https://localhost:8080/",
          "height": 281
        },
        "outputId": "e5c99e5e-9cc2-420b-98fe-b10f28cb98b8"
      },
      "source": [
        "# rich output example\n",
        "import numpy as np\n",
        "from matplotlib import pyplot as plt\n",
        "\n",
        "y = np.random.randn(100)\n",
        "x = [x for x in range(len(y))]\n",
        "\n",
        "plt.plot(x, y, '-')\n",
        "plt.fill_between(x, y, 200, where = (y > 195), facecolor='g', alpha=0.6)\n",
        "\n",
        "plt.title(\"Sample Plot\")\n",
        "plt.show()"
      ],
      "execution_count": 2,
      "outputs": [
        {
          "output_type": "display_data",
          "data": {
            "image/png": "[encoded data removed]",
            "text/plain": [
              "<Figure size 432x288 with 1 Axes>"
            ]
          },
          "metadata": {
            "tags": [],
            "needs_background": "light"
          }
        }
      ]
    }
  ]
}